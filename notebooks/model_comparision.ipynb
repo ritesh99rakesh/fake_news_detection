{
 "cells": [
  {
   "cell_type": "markdown",
   "metadata": {},
   "source": [
    "# Model comparision"
   ]
  },
  {
   "cell_type": "markdown",
   "metadata": {},
   "source": [
    "**Import modules**"
   ]
  },
  {
   "cell_type": "code",
   "execution_count": 1,
   "metadata": {},
   "outputs": [
    {
     "name": "stderr",
     "output_type": "stream",
     "text": [
      "Using TensorFlow backend.\n"
     ]
    }
   ],
   "source": [
    "from models.S import model_dnnS1, model_dnnS2, model_lrS\n",
    "from models.SM import model_dnnSM1, model_dnnSM2, model_lrSM\n",
    "from models.SMJ import model_dnnSMJ1, model_dnnSMJ2, model_lrSMJ\n",
    "from data.load_data import load_train, load_test, load_val\n",
    "from data.clean_data import clean_data"
   ]
  },
  {
   "cell_type": "markdown",
   "metadata": {},
   "source": [
    "## Six way classification"
   ]
  },
  {
   "cell_type": "markdown",
   "metadata": {},
   "source": [
    "**Load Data**"
   ]
  },
  {
   "cell_type": "code",
   "execution_count": 2,
   "metadata": {},
   "outputs": [
    {
     "name": "stdout",
     "output_type": "stream",
     "text": [
      "============ Data Shape ============\n",
      "Data shape:  (10239, 16)\n",
      "============ Data Shape ============\n",
      "Data shape:  (1283, 16)\n",
      "============ Data Shape ============\n",
      "Data shape:  (1266, 16)\n"
     ]
    }
   ],
   "source": [
    "train_data, val_data, test_data = clean_data(load_train(), False), clean_data(load_val(), False), clean_data(load_test(), False)"
   ]
  },
  {
   "cell_type": "markdown",
   "metadata": {},
   "source": [
    "**DNN with only statements**"
   ]
  },
  {
   "cell_type": "code",
   "execution_count": 3,
   "metadata": {},
   "outputs": [
    {
     "name": "stdout",
     "output_type": "stream",
     "text": [
      "WARNING:tensorflow:From /home/ritesh/venv/lib/python3.6/site-packages/tensorflow/python/framework/op_def_library.py:263: colocate_with (from tensorflow.python.framework.ops) is deprecated and will be removed in a future version.\n",
      "Instructions for updating:\n",
      "Colocations handled automatically by placer.\n",
      "\n",
      "\n",
      "============ Model Summary ============\n",
      "_________________________________________________________________\n",
      "Layer (type)                 Output Shape              Param #   \n",
      "=================================================================\n",
      "dense_1 (Dense)              (None, 500)               1500500   \n",
      "_________________________________________________________________\n",
      "dense_2 (Dense)              (None, 1)                 501       \n",
      "=================================================================\n",
      "Total params: 1,501,001\n",
      "Trainable params: 1,501,001\n",
      "Non-trainable params: 0\n",
      "_________________________________________________________________\n",
      "\n",
      "\n",
      "============ Model Training ============\n",
      "WARNING:tensorflow:From /home/ritesh/venv/lib/python3.6/site-packages/tensorflow/python/ops/math_ops.py:3066: to_int32 (from tensorflow.python.ops.math_ops) is deprecated and will be removed in a future version.\n",
      "Instructions for updating:\n",
      "Use tf.cast instead.\n",
      "Train on 10239 samples, validate on 1283 samples\n",
      "Epoch 1/2\n",
      "10239/10239 [==============================] - 2s 167us/step - loss: -8.2972 - acc: 0.1916 - val_loss: -20.3637 - val_acc: 0.1956\n",
      "Epoch 2/2\n",
      "10239/10239 [==============================] - 2s 148us/step - loss: -19.7368 - acc: 0.1916 - val_loss: -22.1914 - val_acc: 0.1956\n",
      "\n",
      "\n",
      "============ Model Evaluation ============\n",
      "1266/1266 [==============================] - 0s 63us/step\n",
      "Accuracy: 0.19036334920174325\n"
     ]
    }
   ],
   "source": [
    "model_dnnS1(train_data, val_data, test_data)"
   ]
  },
  {
   "cell_type": "markdown",
   "metadata": {},
   "source": [
    "**More complex DNN with only statements**"
   ]
  },
  {
   "cell_type": "code",
   "execution_count": 4,
   "metadata": {},
   "outputs": [
    {
     "name": "stdout",
     "output_type": "stream",
     "text": [
      "WARNING:tensorflow:From /home/ritesh/venv/lib/python3.6/site-packages/keras/backend/tensorflow_backend.py:3445: calling dropout (from tensorflow.python.ops.nn_ops) with keep_prob is deprecated and will be removed in a future version.\n",
      "Instructions for updating:\n",
      "Please use `rate` instead of `keep_prob`. Rate should be set to `rate = 1 - keep_prob`.\n",
      "\n",
      "\n",
      "============ Model Summary ============\n",
      "_________________________________________________________________\n",
      "Layer (type)                 Output Shape              Param #   \n",
      "=================================================================\n",
      "dense_3 (Dense)              (None, 500)               1500500   \n",
      "_________________________________________________________________\n",
      "dropout_1 (Dropout)          (None, 500)               0         \n",
      "_________________________________________________________________\n",
      "dense_4 (Dense)              (None, 500)               250500    \n",
      "_________________________________________________________________\n",
      "dropout_2 (Dropout)          (None, 500)               0         \n",
      "_________________________________________________________________\n",
      "dense_5 (Dense)              (None, 1)                 501       \n",
      "=================================================================\n",
      "Total params: 1,751,501\n",
      "Trainable params: 1,751,501\n",
      "Non-trainable params: 0\n",
      "_________________________________________________________________\n",
      "\n",
      "\n",
      "============ Model Training ============\n",
      "Train on 10239 samples, validate on 1283 samples\n",
      "Epoch 1/2\n",
      "10239/10239 [==============================] - 2s 202us/step - loss: -16.4523 - acc: 0.1920 - val_loss: -22.4163 - val_acc: 0.1956\n",
      "Epoch 2/2\n",
      "10239/10239 [==============================] - 2s 169us/step - loss: -20.3718 - acc: 0.1916 - val_loss: -22.4163 - val_acc: 0.1956\n",
      "\n",
      "\n",
      "============ Model Evaluation ============\n",
      "1266/1266 [==============================] - 0s 77us/step\n",
      "Accuracy: 0.19036334920174325\n"
     ]
    }
   ],
   "source": [
    "model_dnnS2(train_data, val_data, test_data)"
   ]
  },
  {
   "cell_type": "markdown",
   "metadata": {},
   "source": [
    "**Logistic Regression with only statements**"
   ]
  },
  {
   "cell_type": "code",
   "execution_count": 5,
   "metadata": {},
   "outputs": [
    {
     "name": "stdout",
     "output_type": "stream",
     "text": [
      "\n",
      "\n",
      "============ Model Summary ============\n",
      "LogisticRegression(C=1.0, class_weight=None, dual=False, fit_intercept=True,\n",
      "          intercept_scaling=1, max_iter=1000, multi_class='multinomial',\n",
      "          n_jobs=None, penalty='l2', random_state=None, solver='lbfgs',\n",
      "          tol=0.0001, verbose=0, warm_start=False)\n",
      "\n",
      "\n",
      "============ Model Training ============\n",
      "\n",
      "\n",
      "============ Model Evaluation ============\n",
      "Validation data Accuracy: 0.24006235385814498\n",
      "Test data Accuracy: 0.2377567140600316\n"
     ]
    }
   ],
   "source": [
    "model_lrS(train_data, val_data, test_data)"
   ]
  },
  {
   "cell_type": "markdown",
   "metadata": {},
   "source": [
    "**DNN with statements and metadata**"
   ]
  },
  {
   "cell_type": "code",
   "execution_count": 6,
   "metadata": {},
   "outputs": [
    {
     "name": "stdout",
     "output_type": "stream",
     "text": [
      "(10239, 4034) (10239,) (1283, 4034) (1283,) (1266, 4034) (1266,)\n",
      "\n",
      "\n",
      "============ Model Summary ============\n",
      "_________________________________________________________________\n",
      "Layer (type)                 Output Shape              Param #   \n",
      "=================================================================\n",
      "dense_6 (Dense)              (None, 500)               2017500   \n",
      "_________________________________________________________________\n",
      "dense_7 (Dense)              (None, 1)                 501       \n",
      "=================================================================\n",
      "Total params: 2,018,001\n",
      "Trainable params: 2,018,001\n",
      "Non-trainable params: 0\n",
      "_________________________________________________________________\n",
      "\n",
      "\n",
      "============ Model Training ============\n",
      "Train on 10239 samples, validate on 1283 samples\n",
      "Epoch 1/2\n",
      "10239/10239 [==============================] - 3s 255us/step - loss: -19.9202 - acc: 0.1916 - val_loss: -22.3110 - val_acc: 0.1956\n",
      "Epoch 2/2\n",
      "10239/10239 [==============================] - 2s 227us/step - loss: -20.3626 - acc: 0.1916 - val_loss: -22.3390 - val_acc: 0.1956\n",
      "\n",
      "\n",
      "============ Model Evaluation ============\n",
      "1266/1266 [==============================] - 0s 84us/step\n",
      "Accuracy: 0.19036334920174325\n"
     ]
    }
   ],
   "source": [
    "model_dnnSM1(train_data, val_data, test_data)"
   ]
  },
  {
   "cell_type": "markdown",
   "metadata": {},
   "source": [
    "**More complex DNN with statments and metadata**"
   ]
  },
  {
   "cell_type": "code",
   "execution_count": 7,
   "metadata": {},
   "outputs": [
    {
     "name": "stdout",
     "output_type": "stream",
     "text": [
      "(10239, 4034) (10239,) (1283, 4034) (1283,) (1266, 4034) (1266,)\n",
      "\n",
      "\n",
      "============ Model Summary ============\n",
      "_________________________________________________________________\n",
      "Layer (type)                 Output Shape              Param #   \n",
      "=================================================================\n",
      "dense_8 (Dense)              (None, 500)               2017500   \n",
      "_________________________________________________________________\n",
      "dropout_3 (Dropout)          (None, 500)               0         \n",
      "_________________________________________________________________\n",
      "dense_9 (Dense)              (None, 500)               250500    \n",
      "_________________________________________________________________\n",
      "dropout_4 (Dropout)          (None, 500)               0         \n",
      "_________________________________________________________________\n",
      "dense_10 (Dense)             (None, 1)                 501       \n",
      "=================================================================\n",
      "Total params: 2,268,501\n",
      "Trainable params: 2,268,501\n",
      "Non-trainable params: 0\n",
      "_________________________________________________________________\n",
      "\n",
      "\n",
      "============ Model Training ============\n",
      "Train on 10239 samples, validate on 1283 samples\n",
      "Epoch 1/2\n",
      "10239/10239 [==============================] - 3s 291us/step - loss: -19.9106 - acc: 0.1907 - val_loss: -22.3730 - val_acc: 0.1956\n",
      "Epoch 2/2\n",
      "10239/10239 [==============================] - 3s 255us/step - loss: -20.3709 - acc: 0.1916 - val_loss: -22.3864 - val_acc: 0.1956\n",
      "\n",
      "\n",
      "============ Model Evaluation ============\n",
      "1266/1266 [==============================] - 0s 98us/step\n",
      "Accuracy: 0.19036334920174325\n"
     ]
    }
   ],
   "source": [
    "model_dnnSM2(train_data, val_data, test_data)"
   ]
  },
  {
   "cell_type": "markdown",
   "metadata": {},
   "source": [
    "**Logistic Regression with statements and metadata**"
   ]
  },
  {
   "cell_type": "code",
   "execution_count": 8,
   "metadata": {},
   "outputs": [
    {
     "name": "stdout",
     "output_type": "stream",
     "text": [
      "(10239, 4034) (10239,) (1283, 4034) (1283,) (1266, 4034) (1266,)\n",
      "\n",
      "\n",
      "============ Model Summary ============\n",
      "LogisticRegression(C=1.0, class_weight=None, dual=False, fit_intercept=True,\n",
      "          intercept_scaling=1, max_iter=100, multi_class='multinomial',\n",
      "          n_jobs=None, penalty='l2', random_state=None, solver='lbfgs',\n",
      "          tol=0.0001, verbose=0, warm_start=False)\n",
      "\n",
      "\n",
      "============ Model Training ============\n"
     ]
    },
    {
     "name": "stderr",
     "output_type": "stream",
     "text": [
      "/home/ritesh/venv/lib/python3.6/site-packages/sklearn/linear_model/logistic.py:758: ConvergenceWarning: lbfgs failed to converge. Increase the number of iterations.\n",
      "  \"of iterations.\", ConvergenceWarning)\n"
     ]
    },
    {
     "name": "stdout",
     "output_type": "stream",
     "text": [
      "\n",
      "\n",
      "============ Model Evaluation ============\n",
      "Validation data Accuracy: 0.27435697583788\n",
      "Test data Accuracy: 0.2646129541864139\n"
     ]
    }
   ],
   "source": [
    "model_lrSM(train_data, val_data, test_data)"
   ]
  },
  {
   "cell_type": "markdown",
   "metadata": {},
   "source": [
    "**DNN with statements, metadata and justification**"
   ]
  },
  {
   "cell_type": "code",
   "execution_count": 9,
   "metadata": {},
   "outputs": [
    {
     "name": "stdout",
     "output_type": "stream",
     "text": [
      "(10239, 7034) (10239,) (1283, 7034) (1283,) (1266, 7034) (1266,)\n",
      "\n",
      "\n",
      "============ Model Summary ============\n",
      "_________________________________________________________________\n",
      "Layer (type)                 Output Shape              Param #   \n",
      "=================================================================\n",
      "dense_12 (Dense)             (None, 500)               3517500   \n",
      "_________________________________________________________________\n",
      "dense_13 (Dense)             (None, 1)                 501       \n",
      "=================================================================\n",
      "Total params: 3,518,001\n",
      "Trainable params: 3,518,001\n",
      "Non-trainable params: 0\n",
      "_________________________________________________________________\n",
      "\n",
      "\n",
      "============ Model Training ============\n",
      "Train on 10239 samples, validate on 1283 samples\n",
      "Epoch 1/2\n",
      "10239/10239 [==============================] - 5s 460us/step - loss: -19.9114 - acc: 0.1916 - val_loss: -22.2848 - val_acc: 0.1956\n",
      "Epoch 2/2\n",
      "10239/10239 [==============================] - 4s 414us/step - loss: -20.3710 - acc: 0.1916 - val_loss: -22.3046 - val_acc: 0.1956\n",
      "\n",
      "\n",
      "============ Model Evaluation ============\n",
      "1266/1266 [==============================] - 0s 139us/step\n",
      "Accuracy: 0.19036334920174325\n"
     ]
    }
   ],
   "source": [
    "model_dnnSMJ1(train_data, val_data, test_data)"
   ]
  },
  {
   "cell_type": "markdown",
   "metadata": {},
   "source": [
    "**More complex DNN with statements, metadata and justification**"
   ]
  },
  {
   "cell_type": "code",
   "execution_count": 10,
   "metadata": {},
   "outputs": [
    {
     "name": "stdout",
     "output_type": "stream",
     "text": [
      "(10239, 7034) (10239,) (1283, 7034) (1283,) (1266, 7034) (1266,)\n",
      "\n",
      "\n",
      "============ Model Summary ============\n",
      "_________________________________________________________________\n",
      "Layer (type)                 Output Shape              Param #   \n",
      "=================================================================\n",
      "dense_14 (Dense)             (None, 500)               3517500   \n",
      "_________________________________________________________________\n",
      "dropout_5 (Dropout)          (None, 500)               0         \n",
      "_________________________________________________________________\n",
      "dense_15 (Dense)             (None, 500)               250500    \n",
      "_________________________________________________________________\n",
      "dropout_6 (Dropout)          (None, 500)               0         \n",
      "_________________________________________________________________\n",
      "dense_16 (Dense)             (None, 1)                 501       \n",
      "=================================================================\n",
      "Total params: 3,768,501\n",
      "Trainable params: 3,768,501\n",
      "Non-trainable params: 0\n",
      "_________________________________________________________________\n",
      "\n",
      "\n",
      "============ Model Training ============\n",
      "Train on 10239 samples, validate on 1283 samples\n",
      "Epoch 1/2\n",
      "10239/10239 [==============================] - 5s 488us/step - loss: -19.8702 - acc: 0.1911 - val_loss: -22.3675 - val_acc: 0.1956\n",
      "Epoch 2/2\n",
      "10239/10239 [==============================] - 5s 450us/step - loss: -20.3720 - acc: 0.1916 - val_loss: -22.3687 - val_acc: 0.1956\n",
      "\n",
      "\n",
      "============ Model Evaluation ============\n",
      "1266/1266 [==============================] - 0s 150us/step\n",
      "Accuracy: 0.19036334920174325\n"
     ]
    }
   ],
   "source": [
    "model_dnnSMJ2(train_data, val_data, test_data)"
   ]
  },
  {
   "cell_type": "markdown",
   "metadata": {},
   "source": [
    "**Logistic Regression with statements, metadata and justification**"
   ]
  },
  {
   "cell_type": "code",
   "execution_count": 11,
   "metadata": {},
   "outputs": [
    {
     "name": "stdout",
     "output_type": "stream",
     "text": [
      "(10239, 7034) (10239,) (1283, 7034) (1283,) (1266, 7034) (1266,)\n",
      "\n",
      "\n",
      "============ Model Summary ============\n",
      "LogisticRegression(C=1.0, class_weight=None, dual=False, fit_intercept=True,\n",
      "          intercept_scaling=1, max_iter=100, multi_class='multinomial',\n",
      "          n_jobs=None, penalty='l2', random_state=None, solver='lbfgs',\n",
      "          tol=0.0001, verbose=0, warm_start=False)\n",
      "\n",
      "\n",
      "============ Model Training ============\n"
     ]
    },
    {
     "name": "stderr",
     "output_type": "stream",
     "text": [
      "/home/ritesh/venv/lib/python3.6/site-packages/sklearn/linear_model/logistic.py:758: ConvergenceWarning: lbfgs failed to converge. Increase the number of iterations.\n",
      "  \"of iterations.\", ConvergenceWarning)\n"
     ]
    },
    {
     "name": "stdout",
     "output_type": "stream",
     "text": [
      "\n",
      "\n",
      "============ Model Evaluation ============\n",
      "Validation data Accuracy: 0.2813717848791894\n",
      "Test data Accuracy: 0.2638230647709321\n"
     ]
    }
   ],
   "source": [
    "model_lrSMJ(train_data, val_data, test_data)"
   ]
  },
  {
   "cell_type": "markdown",
   "metadata": {},
   "source": [
    "## Binary classfication"
   ]
  },
  {
   "cell_type": "markdown",
   "metadata": {},
   "source": [
    "**Load Data**"
   ]
  },
  {
   "cell_type": "code",
   "execution_count": 12,
   "metadata": {},
   "outputs": [
    {
     "name": "stdout",
     "output_type": "stream",
     "text": [
      "============ Data Shape ============\n",
      "Data shape:  (10239, 16)\n",
      "============ Data Shape ============\n",
      "Data shape:  (1283, 16)\n",
      "============ Data Shape ============\n",
      "Data shape:  (1266, 16)\n"
     ]
    }
   ],
   "source": [
    "train_data, val_data, test_data = clean_data(load_train()), clean_data(load_val()), clean_data(load_test())"
   ]
  },
  {
   "cell_type": "markdown",
   "metadata": {},
   "source": [
    "**DNN with only statements**"
   ]
  },
  {
   "cell_type": "code",
   "execution_count": 13,
   "metadata": {},
   "outputs": [
    {
     "name": "stdout",
     "output_type": "stream",
     "text": [
      "\n",
      "\n",
      "============ Model Summary ============\n",
      "_________________________________________________________________\n",
      "Layer (type)                 Output Shape              Param #   \n",
      "=================================================================\n",
      "dense_18 (Dense)             (None, 500)               1500500   \n",
      "_________________________________________________________________\n",
      "dense_19 (Dense)             (None, 1)                 501       \n",
      "=================================================================\n",
      "Total params: 1,501,001\n",
      "Trainable params: 1,501,001\n",
      "Non-trainable params: 0\n",
      "_________________________________________________________________\n",
      "\n",
      "\n",
      "============ Model Training ============\n",
      "Train on 10239 samples, validate on 1283 samples\n",
      "Epoch 1/2\n",
      "10239/10239 [==============================] - 2s 188us/step - loss: 0.6638 - acc: 0.5941 - val_loss: 0.6506 - val_acc: 0.6173\n",
      "Epoch 2/2\n",
      "10239/10239 [==============================] - 2s 148us/step - loss: 0.5545 - acc: 0.7326 - val_loss: 0.6755 - val_acc: 0.6118\n",
      "\n",
      "\n",
      "============ Model Evaluation ============\n",
      "1266/1266 [==============================] - 0s 75us/step\n",
      "Accuracy: 0.6003159558132738\n"
     ]
    }
   ],
   "source": [
    "model_dnnS1(train_data, val_data, test_data)"
   ]
  },
  {
   "cell_type": "markdown",
   "metadata": {},
   "source": [
    "**More complex DNN with only statements**"
   ]
  },
  {
   "cell_type": "code",
   "execution_count": 14,
   "metadata": {},
   "outputs": [
    {
     "name": "stdout",
     "output_type": "stream",
     "text": [
      "\n",
      "\n",
      "============ Model Summary ============\n",
      "_________________________________________________________________\n",
      "Layer (type)                 Output Shape              Param #   \n",
      "=================================================================\n",
      "dense_20 (Dense)             (None, 500)               1500500   \n",
      "_________________________________________________________________\n",
      "dropout_7 (Dropout)          (None, 500)               0         \n",
      "_________________________________________________________________\n",
      "dense_21 (Dense)             (None, 500)               250500    \n",
      "_________________________________________________________________\n",
      "dropout_8 (Dropout)          (None, 500)               0         \n",
      "_________________________________________________________________\n",
      "dense_22 (Dense)             (None, 1)                 501       \n",
      "=================================================================\n",
      "Total params: 1,751,501\n",
      "Trainable params: 1,751,501\n",
      "Non-trainable params: 0\n",
      "_________________________________________________________________\n",
      "\n",
      "\n",
      "============ Model Training ============\n",
      "Train on 10239 samples, validate on 1283 samples\n",
      "Epoch 1/2\n",
      "10239/10239 [==============================] - 2s 234us/step - loss: 0.6701 - acc: 0.5838 - val_loss: 0.6549 - val_acc: 0.6134\n",
      "Epoch 2/2\n",
      "10239/10239 [==============================] - 2s 175us/step - loss: 0.5771 - acc: 0.6984 - val_loss: 0.6957 - val_acc: 0.6095\n",
      "\n",
      "\n",
      "============ Model Evaluation ============\n",
      "1266/1266 [==============================] - 0s 82us/step\n",
      "Accuracy: 0.6066350710900474\n"
     ]
    }
   ],
   "source": [
    "model_dnnS2(train_data, val_data, test_data)"
   ]
  },
  {
   "cell_type": "markdown",
   "metadata": {},
   "source": [
    "**Logisitic Regression with only statements**"
   ]
  },
  {
   "cell_type": "code",
   "execution_count": 15,
   "metadata": {},
   "outputs": [
    {
     "name": "stdout",
     "output_type": "stream",
     "text": [
      "\n",
      "\n",
      "============ Model Summary ============\n",
      "LogisticRegression(C=1.0, class_weight=None, dual=False, fit_intercept=True,\n",
      "          intercept_scaling=1, max_iter=1000, multi_class='multinomial',\n",
      "          n_jobs=None, penalty='l2', random_state=None, solver='lbfgs',\n",
      "          tol=0.0001, verbose=0, warm_start=False)\n",
      "\n",
      "\n",
      "============ Model Training ============\n",
      "\n",
      "\n",
      "============ Model Evaluation ============\n",
      "Validation data Accuracy: 0.5876851130163678\n",
      "Test data Accuracy: 0.5963665086887836\n"
     ]
    }
   ],
   "source": [
    "model_lrS(train_data, val_data, test_data)"
   ]
  },
  {
   "cell_type": "markdown",
   "metadata": {},
   "source": [
    "**DNN with statements and metadata**"
   ]
  },
  {
   "cell_type": "code",
   "execution_count": 16,
   "metadata": {},
   "outputs": [
    {
     "name": "stdout",
     "output_type": "stream",
     "text": [
      "(10239, 4034) (10239,) (1283, 4034) (1283,) (1266, 4034) (1266,)\n",
      "\n",
      "\n",
      "============ Model Summary ============\n",
      "_________________________________________________________________\n",
      "Layer (type)                 Output Shape              Param #   \n",
      "=================================================================\n",
      "dense_23 (Dense)             (None, 500)               2017500   \n",
      "_________________________________________________________________\n",
      "dense_24 (Dense)             (None, 1)                 501       \n",
      "=================================================================\n",
      "Total params: 2,018,001\n",
      "Trainable params: 2,018,001\n",
      "Non-trainable params: 0\n",
      "_________________________________________________________________\n",
      "\n",
      "\n",
      "============ Model Training ============\n",
      "Train on 10239 samples, validate on 1283 samples\n",
      "Epoch 1/2\n",
      "10239/10239 [==============================] - 3s 298us/step - loss: 1.0650 - acc: 0.5866 - val_loss: 0.6376 - val_acc: 0.6485\n",
      "Epoch 2/2\n",
      "10239/10239 [==============================] - 2s 243us/step - loss: 0.7253 - acc: 0.6608 - val_loss: 0.6717 - val_acc: 0.6500\n",
      "\n",
      "\n",
      "============ Model Evaluation ============\n",
      "1266/1266 [==============================] - 0s 94us/step\n",
      "Accuracy: 0.6437598737118557\n"
     ]
    }
   ],
   "source": [
    "model_dnnSM1(train_data, val_data, test_data)"
   ]
  },
  {
   "cell_type": "markdown",
   "metadata": {},
   "source": [
    "**More complex DNN with statements and metadata**"
   ]
  },
  {
   "cell_type": "code",
   "execution_count": 17,
   "metadata": {},
   "outputs": [
    {
     "name": "stdout",
     "output_type": "stream",
     "text": [
      "(10239, 4034) (10239,) (1283, 4034) (1283,) (1266, 4034) (1266,)\n",
      "\n",
      "\n",
      "============ Model Summary ============\n",
      "_________________________________________________________________\n",
      "Layer (type)                 Output Shape              Param #   \n",
      "=================================================================\n",
      "dense_25 (Dense)             (None, 500)               2017500   \n",
      "_________________________________________________________________\n",
      "dropout_9 (Dropout)          (None, 500)               0         \n",
      "_________________________________________________________________\n",
      "dense_26 (Dense)             (None, 500)               250500    \n",
      "_________________________________________________________________\n",
      "dropout_10 (Dropout)         (None, 500)               0         \n",
      "_________________________________________________________________\n",
      "dense_27 (Dense)             (None, 1)                 501       \n",
      "=================================================================\n",
      "Total params: 2,268,501\n",
      "Trainable params: 2,268,501\n",
      "Non-trainable params: 0\n",
      "_________________________________________________________________\n",
      "\n",
      "\n",
      "============ Model Training ============\n",
      "Train on 10239 samples, validate on 1283 samples\n",
      "Epoch 1/2\n",
      "10239/10239 [==============================] - 3s 331us/step - loss: 3.4959 - acc: 0.5391 - val_loss: 0.8374 - val_acc: 0.5643\n",
      "Epoch 2/2\n",
      "10239/10239 [==============================] - 3s 276us/step - loss: 1.5697 - acc: 0.5503 - val_loss: 0.6719 - val_acc: 0.5549\n",
      "\n",
      "\n",
      "============ Model Evaluation ============\n",
      "1266/1266 [==============================] - 0s 103us/step\n",
      "Accuracy: 0.5789889415481833\n"
     ]
    }
   ],
   "source": [
    "model_dnnSM2(train_data, val_data, test_data)"
   ]
  },
  {
   "cell_type": "markdown",
   "metadata": {},
   "source": [
    "**Logisitic Regression with statements and metadata**"
   ]
  },
  {
   "cell_type": "code",
   "execution_count": 18,
   "metadata": {},
   "outputs": [
    {
     "name": "stdout",
     "output_type": "stream",
     "text": [
      "(10239, 4034) (10239,) (1283, 4034) (1283,) (1266, 4034) (1266,)\n",
      "\n",
      "\n",
      "============ Model Summary ============\n",
      "LogisticRegression(C=1.0, class_weight=None, dual=False, fit_intercept=True,\n",
      "          intercept_scaling=1, max_iter=100, multi_class='multinomial',\n",
      "          n_jobs=None, penalty='l2', random_state=None, solver='lbfgs',\n",
      "          tol=0.0001, verbose=0, warm_start=False)\n",
      "\n",
      "\n",
      "============ Model Training ============\n"
     ]
    },
    {
     "name": "stderr",
     "output_type": "stream",
     "text": [
      "/home/ritesh/venv/lib/python3.6/site-packages/sklearn/linear_model/logistic.py:758: ConvergenceWarning: lbfgs failed to converge. Increase the number of iterations.\n",
      "  \"of iterations.\", ConvergenceWarning)\n"
     ]
    },
    {
     "name": "stdout",
     "output_type": "stream",
     "text": [
      "\n",
      "\n",
      "============ Model Evaluation ============\n",
      "Validation data Accuracy: 0.6040530007794233\n",
      "Test data Accuracy: 0.6113744075829384\n"
     ]
    }
   ],
   "source": [
    "model_lrSM(train_data, val_data, test_data)"
   ]
  },
  {
   "cell_type": "markdown",
   "metadata": {},
   "source": [
    "**DNN with statements, metadata and justification**"
   ]
  },
  {
   "cell_type": "code",
   "execution_count": 19,
   "metadata": {},
   "outputs": [
    {
     "name": "stdout",
     "output_type": "stream",
     "text": [
      "(10239, 7034) (10239,) (1283, 7034) (1283,) (1266, 7034) (1266,)\n",
      "\n",
      "\n",
      "============ Model Summary ============\n",
      "_________________________________________________________________\n",
      "Layer (type)                 Output Shape              Param #   \n",
      "=================================================================\n",
      "dense_29 (Dense)             (None, 500)               3517500   \n",
      "_________________________________________________________________\n",
      "dense_30 (Dense)             (None, 1)                 501       \n",
      "=================================================================\n",
      "Total params: 3,518,001\n",
      "Trainable params: 3,518,001\n",
      "Non-trainable params: 0\n",
      "_________________________________________________________________\n",
      "\n",
      "\n",
      "============ Model Training ============\n",
      "Train on 10239 samples, validate on 1283 samples\n",
      "Epoch 1/2\n",
      "10239/10239 [==============================] - 5s 491us/step - loss: 0.8953 - acc: 0.5842 - val_loss: 0.6342 - val_acc: 0.6391\n",
      "Epoch 2/2\n",
      "10239/10239 [==============================] - 4s 427us/step - loss: 0.7213 - acc: 0.6964 - val_loss: 0.6417 - val_acc: 0.6539\n",
      "\n",
      "\n",
      "============ Model Evaluation ============\n",
      "1266/1266 [==============================] - 0s 142us/step\n",
      "Accuracy: 0.65086887835703\n"
     ]
    }
   ],
   "source": [
    "model_dnnSMJ1(train_data, val_data, test_data)"
   ]
  },
  {
   "cell_type": "markdown",
   "metadata": {},
   "source": [
    "**More complex DNN with statements, metadata and justification**"
   ]
  },
  {
   "cell_type": "code",
   "execution_count": 20,
   "metadata": {},
   "outputs": [
    {
     "name": "stdout",
     "output_type": "stream",
     "text": [
      "(10239, 7034) (10239,) (1283, 7034) (1283,) (1266, 7034) (1266,)\n",
      "\n",
      "\n",
      "============ Model Summary ============\n",
      "_________________________________________________________________\n",
      "Layer (type)                 Output Shape              Param #   \n",
      "=================================================================\n",
      "dense_31 (Dense)             (None, 500)               3517500   \n",
      "_________________________________________________________________\n",
      "dropout_11 (Dropout)         (None, 500)               0         \n",
      "_________________________________________________________________\n",
      "dense_32 (Dense)             (None, 500)               250500    \n",
      "_________________________________________________________________\n",
      "dropout_12 (Dropout)         (None, 500)               0         \n",
      "_________________________________________________________________\n",
      "dense_33 (Dense)             (None, 1)                 501       \n",
      "=================================================================\n",
      "Total params: 3,768,501\n",
      "Trainable params: 3,768,501\n",
      "Non-trainable params: 0\n",
      "_________________________________________________________________\n",
      "\n",
      "\n",
      "============ Model Training ============\n",
      "Train on 10239 samples, validate on 1283 samples\n",
      "Epoch 1/2\n",
      "10239/10239 [==============================] - 5s 531us/step - loss: 2.6956 - acc: 0.5456 - val_loss: 0.6629 - val_acc: 0.6087\n",
      "Epoch 2/2\n",
      "10239/10239 [==============================] - 5s 454us/step - loss: 1.0513 - acc: 0.5557 - val_loss: 0.6732 - val_acc: 0.5464\n",
      "\n",
      "\n",
      "============ Model Evaluation ============\n",
      "1266/1266 [==============================] - 0s 150us/step\n",
      "Accuracy: 0.5481832546268782\n"
     ]
    }
   ],
   "source": [
    "model_dnnSMJ2(train_data, val_data, test_data)"
   ]
  },
  {
   "cell_type": "markdown",
   "metadata": {},
   "source": [
    "**Logistic Regression with statements, metadata and justification**"
   ]
  },
  {
   "cell_type": "code",
   "execution_count": 21,
   "metadata": {},
   "outputs": [
    {
     "name": "stdout",
     "output_type": "stream",
     "text": [
      "(10239, 7034) (10239,) (1283, 7034) (1283,) (1266, 7034) (1266,)\n",
      "\n",
      "\n",
      "============ Model Summary ============\n",
      "LogisticRegression(C=1.0, class_weight=None, dual=False, fit_intercept=True,\n",
      "          intercept_scaling=1, max_iter=100, multi_class='multinomial',\n",
      "          n_jobs=None, penalty='l2', random_state=None, solver='lbfgs',\n",
      "          tol=0.0001, verbose=0, warm_start=False)\n",
      "\n",
      "\n",
      "============ Model Training ============\n"
     ]
    },
    {
     "name": "stderr",
     "output_type": "stream",
     "text": [
      "/home/ritesh/venv/lib/python3.6/site-packages/sklearn/linear_model/logistic.py:758: ConvergenceWarning: lbfgs failed to converge. Increase the number of iterations.\n",
      "  \"of iterations.\", ConvergenceWarning)\n"
     ]
    },
    {
     "name": "stdout",
     "output_type": "stream",
     "text": [
      "\n",
      "\n",
      "============ Model Evaluation ============\n",
      "Validation data Accuracy: 0.622759158222915\n",
      "Test data Accuracy: 0.627172195892575\n"
     ]
    }
   ],
   "source": [
    "model_lrSMJ(train_data, val_data, test_data)"
   ]
  }
 ],
 "metadata": {
  "kernelspec": {
   "display_name": "Python 3",
   "language": "python",
   "name": "python3"
  },
  "language_info": {
   "codemirror_mode": {
    "name": "ipython",
    "version": 3
   },
   "file_extension": ".py",
   "mimetype": "text/x-python",
   "name": "python",
   "nbconvert_exporter": "python",
   "pygments_lexer": "ipython3",
   "version": "3.6.7"
  }
 },
 "nbformat": 4,
 "nbformat_minor": 2
}
